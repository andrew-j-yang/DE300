{
 "cells": [
  {
   "cell_type": "markdown",
   "metadata": {
    "id": "LaW3of-fLFfn"
   },
   "source": [
    "# DE300 Homework 1\n",
    "\n"
   ]
  },
  {
   "cell_type": "markdown",
   "metadata": {
    "id": "2iTE_HVILNcE"
   },
   "source": [
    "# Please run the steps 1,2,3... in order to run the code in the proper order and produce the correct plots"
   ]
  },
  {
   "cell_type": "markdown",
   "metadata": {
    "id": "iqS5gX42lXgy"
   },
   "source": [
    "# STEP 1: Importing packages\n"
   ]
  },
  {
   "cell_type": "code",
   "execution_count": 10,
   "metadata": {
    "id": "y8dqDLcqC6xY"
   },
   "outputs": [
    {
     "name": "stdout",
     "output_type": "stream",
     "text": [
      "/usr/bin/sh: 1: sudo: not found\n",
      "Requirement already satisfied: pandas in /venv/lib/python3.12/site-packages (2.2.2)\n",
      "Requirement already satisfied: numpy>=1.26.0 in /venv/lib/python3.12/site-packages (from pandas) (1.26.4)\n",
      "Requirement already satisfied: python-dateutil>=2.8.2 in /venv/lib/python3.12/site-packages (from pandas) (2.9.0.post0)\n",
      "Requirement already satisfied: pytz>=2020.1 in /venv/lib/python3.12/site-packages (from pandas) (2024.1)\n",
      "Requirement already satisfied: tzdata>=2022.7 in /venv/lib/python3.12/site-packages (from pandas) (2024.1)\n",
      "Requirement already satisfied: six>=1.5 in /venv/lib/python3.12/site-packages (from python-dateutil>=2.8.2->pandas) (1.16.0)\n",
      "Requirement already satisfied: numpy in /venv/lib/python3.12/site-packages (1.26.4)\n",
      "Collecting scipy\n",
      "  Using cached scipy-1.13.0-cp312-cp312-manylinux_2_17_x86_64.manylinux2014_x86_64.whl.metadata (60 kB)\n",
      "Requirement already satisfied: numpy<2.3,>=1.22.4 in /venv/lib/python3.12/site-packages (from scipy) (1.26.4)\n",
      "Using cached scipy-1.13.0-cp312-cp312-manylinux_2_17_x86_64.manylinux2014_x86_64.whl (38.2 MB)\n",
      "Installing collected packages: scipy\n",
      "\u001b[31mERROR: Could not install packages due to an OSError: [Errno 13] Permission denied: '/venv/lib/python3.12/site-packages/scipy-1.13.0.dist-info'\n",
      "Check the permissions.\n",
      "\u001b[0m\u001b[31m\n",
      "\u001b[0m"
     ]
    },
    {
     "ename": "ModuleNotFoundError",
     "evalue": "No module named 'matplotlib'",
     "output_type": "error",
     "traceback": [
      "\u001b[0;31m---------------------------------------------------------------------------\u001b[0m",
      "\u001b[0;31mModuleNotFoundError\u001b[0m                       Traceback (most recent call last)",
      "Cell \u001b[0;32mIn[10], line 5\u001b[0m\n\u001b[1;32m      3\u001b[0m get_ipython()\u001b[38;5;241m.\u001b[39msystem(\u001b[38;5;124m'\u001b[39m\u001b[38;5;124mpip install numpy\u001b[39m\u001b[38;5;124m'\u001b[39m)\n\u001b[1;32m      4\u001b[0m get_ipython()\u001b[38;5;241m.\u001b[39msystem(\u001b[38;5;124m'\u001b[39m\u001b[38;5;124mpip install scipy\u001b[39m\u001b[38;5;124m'\u001b[39m)\n\u001b[0;32m----> 5\u001b[0m \u001b[38;5;28;01mimport\u001b[39;00m \u001b[38;5;21;01mmatplotlib\u001b[39;00m\u001b[38;5;21;01m.\u001b[39;00m\u001b[38;5;21;01mpyplot\u001b[39;00m \u001b[38;5;28;01mas\u001b[39;00m \u001b[38;5;21;01mplt\u001b[39;00m\n\u001b[1;32m      6\u001b[0m \u001b[38;5;28;01mimport\u001b[39;00m \u001b[38;5;21;01mpandas\u001b[39;00m \u001b[38;5;28;01mas\u001b[39;00m \u001b[38;5;21;01mpd\u001b[39;00m\n\u001b[1;32m      7\u001b[0m \u001b[38;5;28;01mimport\u001b[39;00m \u001b[38;5;21;01mnumpy\u001b[39;00m \u001b[38;5;28;01mas\u001b[39;00m \u001b[38;5;21;01mnp\u001b[39;00m\n",
      "\u001b[0;31mModuleNotFoundError\u001b[0m: No module named 'matplotlib'"
     ]
    }
   ],
   "source": [
    "import matplotlib.pyplot as plt\n",
    "import pandas as pd\n",
    "import numpy as np\n",
    "from scipy import stats"
   ]
  },
  {
   "cell_type": "markdown",
   "metadata": {
    "id": "cyp8ogZ0lY8b"
   },
   "source": [
    "# STEP 2: Loading data file"
   ]
  },
  {
   "cell_type": "code",
   "execution_count": null,
   "metadata": {
    "id": "7oz5Zd8rBtto"
   },
   "outputs": [],
   "source": [
    "df = pd.read_csv('heart_disease.csv')"
   ]
  },
  {
   "cell_type": "markdown",
   "metadata": {
    "id": "TkFZmnm8lbD9"
   },
   "source": [
    "# STEP 3: Removing columns with minimal data\n",
    "\n",
    "Dropping columns that contain over 95% empty cells, since imputing data in these columns will result in poor representation\n"
   ]
  },
  {
   "cell_type": "code",
   "execution_count": null,
   "metadata": {
    "id": "qTEtysOjEPXd"
   },
   "outputs": [],
   "source": [
    "# Step 1: Calculate the number of empty cells per column\n",
    "empty_counts = df.isna().sum()\n",
    "\n",
    "# Step 2: Calculate the total number of rows in the DataFrame\n",
    "total_rows = len(df)\n",
    "\n",
    "# Step 3: Identify columns with more than 95% empty cells\n",
    "threshold = 0.95\n",
    "columns_to_drop = empty_counts[empty_counts / total_rows > threshold].index\n",
    "\n",
    "#print(columns_to_drop)\n",
    "\n",
    "# Step 4: Drop these columns from the DataFrame\n",
    "df = df.drop(columns=columns_to_drop)"
   ]
  },
  {
   "cell_type": "markdown",
   "metadata": {
    "id": "9LXM-jNDlfbp"
   },
   "source": [
    "# STEP 4: Dealing with Outliers and Missing data for Binary Attributes\n",
    "\n",
    "Replacing missing cells and any cell that is not 0 or 1 with the mode of the column.\n"
   ]
  },
  {
   "cell_type": "code",
   "execution_count": null,
   "metadata": {
    "id": "YSNNOpgrK8rp"
   },
   "outputs": [],
   "source": [
    "binary_attributes = [\n",
    "    'sex',          # Sex of the patient (1 = male, 0 = female)\n",
    "    'painloc',      # Chest pain location (1 = substernal, 0 = otherwise)\n",
    "    'painexer',     # Whether pain is provoked by exertion (1 = yes, 0 = no)\n",
    "    'relrest',      # Whether pain is relieved after rest (1 = yes, 0 = no)\n",
    "    'smoke',        # Smoking status (1 = yes, 0 = no)\n",
    "    'fbs',          # Fasting blood sugar > 120 mg/dL (1 = true, 0 = false)\n",
    "    'dm',           # History of diabetes (1 = yes, 0 = no)\n",
    "    'famhist',      # Family history of coronary artery disease (1 = yes, 0 = no)\n",
    "    'dig',          # Digitalis used during exercise ECG (1 = yes, 0 = no)\n",
    "    'prop',         # Beta blocker used during exercise ECG (1 = yes, 0 = no)\n",
    "    'nitr',         # Nitrates used during exercise ECG (1 = yes, 0 = no)\n",
    "    'pro',          # Calcium channel blocker used during exercise ECG (1 = yes, 0 = no)\n",
    "    'diuretic',     # Diuretic used during exercise ECG (1 = yes, 0 = no)\n",
    "    'exang',        # Exercise-induced angina (1 = yes, 0 = no)\n",
    "    'xhypo',        # Hypoxia during exercise (1 = yes, 0 = no)\n",
    "    'htn',           # Hypertension status (1 = yes, 0 = no)\n",
    "    'target'\n",
    "]\n",
    "\n",
    "for column in binary_attributes:\n",
    "    # if np.all(np.isin(df[column].dropna().unique(), [0, 1])):  # Check if only contains 0 or 1\n",
    "    #     # Step 2: Calculate the mode of the binary column\n",
    "    #     mode_value = df[column].mode()[0]\n",
    "\n",
    "    #     # Step 3: Replace outliers\n",
    "    #     # Outliers are values that are not 0 or 1\n",
    "    #     df[column] = df[column].apply(lambda x: mode_value if x not in [0, 1] else x)\n",
    "\n",
    "    # NEW\n",
    "    # Step 1: Calculate the mode of the binary column. Mode returns a Series, so use [0] to get the value.\n",
    "    mode_value = df[column].mode()[0]\n",
    "\n",
    "    # Step 2: Replace non-binary and NaN values with the mode\n",
    "    # Use apply() to replace values\n",
    "    df[column] = df[column].apply(lambda x: mode_value if x not in [0, 1] or pd.isna(x) else x)"
   ]
  },
  {
   "cell_type": "markdown",
   "metadata": {
    "id": "gizbZ6polgrC"
   },
   "source": [
    "# STEP 5: Dealing with Outliers and Missing data for Categorical Attributes\n",
    "\n",
    "Replacing missing cells and any cell that is not in the valid value set with the mode of the column\n"
   ]
  },
  {
   "cell_type": "code",
   "execution_count": null,
   "metadata": {
    "id": "X295OtYSYCGb"
   },
   "outputs": [],
   "source": [
    "valid_categories = {\n",
    "    'cp': {1, 2, 3, 4},\n",
    "    'restecg': {0, 1, 2},\n",
    "    'proto': {1,2,3,4,5,6,7,8,9,10,11,12},\n",
    "    'slope': {1,2,3},\n",
    "    'ca': {0,1,2,3},\n",
    "    'thal': {3, 6, 7},\n",
    "    'thalsev': {0,1,2,3}\n",
    "    #'exerwm': {0,1,2,3},\n",
    "    #'restwm': {0,1,2,3}\n",
    "}\n",
    "\n",
    "for column, valid_set in valid_categories.items():\n",
    "    mode_value = df[column].mode()[0]\n",
    "    df[column] = df[column].apply(lambda x: mode_value if x not in valid_set else x)"
   ]
  },
  {
   "cell_type": "markdown",
   "metadata": {
    "id": "EZ24bgQxlipV"
   },
   "source": [
    "# STEP 6: Dealing with Outliers and Missing data for Continuous Attributes\n",
    "\n",
    "Replacing missing cells and any cell that is 1.5 Interquartile Range(IQR) below Q1 or 1.5 Interquartile Range(IQR) above Q3 with the average of the column\n",
    "\n"
   ]
  },
  {
   "cell_type": "code",
   "execution_count": null,
   "metadata": {
    "id": "madHkmvveW5j"
   },
   "outputs": [],
   "source": [
    "continuous_attributes = [\n",
    "    'age',          # Age of the patient in years\n",
    "    'trestbps',     # Resting blood pressure in mm Hg on admission to the hospital\n",
    "    'chol',         # Serum cholesterol in mg/dl\n",
    "    'cigs',         # Number of cigarettes smoked per day\n",
    "    'years',        # Number of years the patient has been smoking\n",
    "    'ekgmo',        # Month of the exercise ECG reading\n",
    "    'ekgday(day',       # Day of the exercise ECG reading\n",
    "    'ekgyr',        # Year of the exercise ECG reading\n",
    "    'thaldur',      # Duration of the exercise test in minutes\n",
    "    'thaltime',     # Time when ST measure depression was noted\n",
    "    'met',          # Metabolic equivalents reached during exercise\n",
    "    'thalach',      # Maximum heart rate achieved during exercise\n",
    "    'thalrest',     # Resting heart rate\n",
    "    'tpeakbps',     # Peak systolic blood pressure during exercise\n",
    "    'tpeakbpd',     # Peak diastolic blood pressure during exercise\n",
    "    'trestbpd',     # Resting diastolic blood pressure\n",
    "    'oldpeak',      # ST depression induced by exercise relative to rest\n",
    "    'rldv5',        # Height at rest (unclear if it's actually height)\n",
    "    'rldv5e',       # Height at peak exercise (unclear if it's actually height)\n",
    "    'cmo',          # Month of cardiac catheterization\n",
    "    'cday',         # Day of cardiac catheterization\n",
    "    'cyr'           # Year of cardiac catheterization\n",
    "]\n",
    "\n",
    "# Replace outliers with the mean for each continuous column\n",
    "for column in continuous_attributes:\n",
    "    Q1 = df[column].quantile(0.25)\n",
    "    Q3 = df[column].quantile(0.75)\n",
    "    IQR = Q3 - Q1\n",
    "    lower_bound = Q1 - 1.5 * IQR\n",
    "    upper_bound = Q3 + 1.5 * IQR\n",
    "\n",
    "    # OLD\n",
    "    # Calculate mean excluding outliers\n",
    "    # mean_value = df[column][(df[column] >= lower_bound) & (df[column] <= upper_bound)].mean()\n",
    "\n",
    "\n",
    "    # Replace outliers\n",
    "    # df[column] = np.where((df[column] < lower_bound) | (df[column] > upper_bound), mean_value, df[column])\n",
    "\n",
    "\n",
    "\n",
    "    # NEW\n",
    "    # Filter out outliers for the mean calculation\n",
    "    filtered_data = df[column][(df[column] >= lower_bound) & (df[column] <= upper_bound)]\n",
    "\n",
    "    # Step 2: Calculate the mean of the column excluding outliers and NaN values\n",
    "    mean_value = filtered_data.mean()\n",
    "\n",
    "    # Step 3: Replace NaN values and outliers with the mean\n",
    "    df[column] = df[column].apply(lambda x: mean_value if pd.isna(x) or x < lower_bound or x > upper_bound else x)\n",
    "\n",
    "df.to_csv('cleaned_imputed_heart_disease.csv', index=False)  # Write to a CSV file without the index\n",
    "\n"
   ]
  },
  {
   "cell_type": "markdown",
   "metadata": {
    "id": "d1soeDGBhg0_"
   },
   "source": [
    "# STEP 7: Computing and analyzing statistical measures\n",
    "\n",
    "We will use the describe() function to list the basic statistical measures for each feature, namely mean, standard deviation, minimum, maximum, and quartile percentages."
   ]
  },
  {
   "cell_type": "code",
   "execution_count": null,
   "metadata": {
    "colab": {
     "base_uri": "https://localhost:8080/"
    },
    "id": "FvbzjwMPCfzP",
    "outputId": "818f395d-f9b0-4215-806a-5305687c5c9a"
   },
   "outputs": [],
   "source": [
    "summary = df.describe()\n",
    "print(summary)"
   ]
  },
  {
   "cell_type": "markdown",
   "metadata": {
    "id": "OzZWiZMoDsWl"
   },
   "source": [
    "#STEP 8: Visualizing numerical distribution for each feature\n",
    "\n",
    "We can observe that binary and categorical features will never follow a normal distribution, while some continuous features do, and some do not."
   ]
  },
  {
   "cell_type": "code",
   "execution_count": null,
   "metadata": {
    "colab": {
     "base_uri": "https://localhost:8080/",
     "height": 452
    },
    "id": "2A9wvxhIDeNv",
    "outputId": "779f229d-6c38-4ea3-cefd-99ceb003f760"
   },
   "outputs": [],
   "source": [
    "df.hist()\n",
    "plt.show()"
   ]
  },
  {
   "cell_type": "markdown",
   "metadata": {
    "id": "OCUq0hfEFjaI"
   },
   "source": [
    "#STEP 9: Transforming continuous features to follow a normal distribution\n",
    "\n",
    "We can see that after applying log transformation to our continuous features, some columns follow a normal distribution, whiles others still do not. Likely, other transformations should be tested, and possibly also a combination of transformations.\n",
    "\n",
    "There is no feasible way to transform binary and categorical features to follow a normal distribution, so we will not perform that transformation."
   ]
  },
  {
   "cell_type": "code",
   "execution_count": null,
   "metadata": {
    "colab": {
     "base_uri": "https://localhost:8080/",
     "height": 1000
    },
    "id": "Ur0EDUhEFi3c",
    "outputId": "ea910344-3dea-4d73-d547-59d76120ebf8"
   },
   "outputs": [],
   "source": [
    "continuous_attributes = [\n",
    "    'age',          # Age of the patient in years\n",
    "    'trestbps',     # Resting blood pressure in mm Hg on admission to the hospital\n",
    "    'chol',         # Serum cholesterol in mg/dl\n",
    "    'cigs',         # Number of cigarettes smoked per day\n",
    "    'years',        # Number of years the patient has been smoking\n",
    "    'ekgmo',        # Month of the exercise ECG reading\n",
    "    'ekgday(day',       # Day of the exercise ECG reading\n",
    "    'ekgyr',        # Year of the exercise ECG reading\n",
    "    'thaldur',      # Duration of the exercise test in minutes\n",
    "    'thaltime',     # Time when ST measure depression was noted\n",
    "    'met',          # Metabolic equivalents reached during exercise\n",
    "    'thalach',      # Maximum heart rate achieved during exercise\n",
    "    'thalrest',     # Resting heart rate\n",
    "    'tpeakbps',     # Peak systolic blood pressure during exercise\n",
    "    'tpeakbpd',     # Peak diastolic blood pressure during exercise\n",
    "    'trestbpd',     # Resting diastolic blood pressure\n",
    "    'oldpeak',      # ST depression induced by exercise relative to rest\n",
    "    'rldv5',        # Height at rest (unclear if it's actually height)\n",
    "    'rldv5e',       # Height at peak exercise (unclear if it's actually height)\n",
    "    'cmo',          # Month of cardiac catheterization\n",
    "    'cday',         # Day of cardiac catheterization\n",
    "    'cyr'           # Year of cardiac catheterization\n",
    "]\n",
    "\n",
    "# Function to plot histogram and Q-Q plot\n",
    "def plot_data(column, column_name):\n",
    "    plt.figure(figsize=(18, 5))\n",
    "\n",
    "    # Histogram\n",
    "    plt.subplot(1, 3, 1)\n",
    "    plt.hist(column, bins=10, color='blue', alpha=0.7)\n",
    "    plt.title(f'Histogram of {column_name}')  # Dynamic title using the column name\n",
    "\n",
    "    # Q-Q plot\n",
    "    plt.subplot(1, 3, 2)\n",
    "    stats.probplot(column, dist=\"norm\", plot=plt)\n",
    "    plt.title(f'Q-Q Plot of {column_name}')  # Dynamic title using the column name\n",
    "\n",
    "    # Box plot\n",
    "    plt.subplot(1, 3, 3)\n",
    "    plt.boxplot(column, vert=False, patch_artist=True)  # 'vert=False' makes the box plot horizontal\n",
    "    plt.title(f'Box Plot of {column_name}')\n",
    "    plt.yticks([1], [column_name])  # Label y-axis with the column name\n",
    "\n",
    "    plt.tight_layout()\n",
    "    plt.show()\n",
    "\n",
    "\n",
    "# Choose a transformation method, e.g., np.log for log transformation\n",
    "for col in continuous_attributes:\n",
    "    if (df[col] > 0).all():  # Check if all values are positive for log transformation\n",
    "        df[f'log_{col}'] = np.log(df[col])\n",
    "        plot_data(df[f'log_{col}'], f'log_{col}')\n",
    "\n"
   ]
  }
 ],
 "metadata": {
  "colab": {
   "provenance": []
  },
  "kernelspec": {
   "display_name": "Python 3 (ipykernel)",
   "language": "python",
   "name": "python3"
  },
  "language_info": {
   "codemirror_mode": {
    "name": "ipython",
    "version": 3
   },
   "file_extension": ".py",
   "mimetype": "text/x-python",
   "name": "python",
   "nbconvert_exporter": "python",
   "pygments_lexer": "ipython3",
   "version": "3.12.3"
  }
 },
 "nbformat": 4,
 "nbformat_minor": 4
}
